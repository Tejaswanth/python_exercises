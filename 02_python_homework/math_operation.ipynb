{
 "cells": [
  {
   "cell_type": "code",
   "execution_count": 4,
   "id": "867ec070-9e52-4150-ad6b-8549eb2a08e9",
   "metadata": {},
   "outputs": [
    {
     "name": "stdout",
     "output_type": "stream",
     "text": [
      "add: 3\n",
      "sub: -1\n",
      "mul: 2\n",
      "div: 0.5\n",
      "quo: 0\n"
     ]
    }
   ],
   "source": [
    "a = 1\n",
    "b = 2\n",
    "# arth ops\n",
    "print(\"add:\", a+b)\n",
    "print(\"sub:\", a-b)\n",
    "print(\"mul:\", a*b)\n",
    "print(\"div:\", a/b)\n",
    "print(\"quo:\", a//b)"
   ]
  },
  {
   "cell_type": "code",
   "execution_count": 16,
   "id": "cde5a7fe-f75e-4660-b8f1-058e3963e22a",
   "metadata": {},
   "outputs": [
    {
     "name": "stdout",
     "output_type": "stream",
     "text": [
      "equal: False\n",
      "greater than: False\n",
      "less than: True\n",
      "great and equal: False\n",
      "less and equal: True\n"
     ]
    }
   ],
   "source": [
    "print(\"equal:\", a==b)\n",
    "print(\"greater than:\", a>b)\n",
    "print(\"less than:\", a<b)\n",
    "print(\"great and equal:\", a>=b)\n",
    "print(\"less and equal:\", a<=b) "
   ]
  },
  {
   "cell_type": "code",
   "execution_count": null,
   "id": "3a9f1a64-425a-46f5-a381-87b2b9fe91cd",
   "metadata": {},
   "outputs": [],
   "source": []
  }
 ],
 "metadata": {
  "kernelspec": {
   "display_name": "Python [conda env:base] *",
   "language": "python",
   "name": "conda-base-py"
  },
  "language_info": {
   "codemirror_mode": {
    "name": "ipython",
    "version": 3
   },
   "file_extension": ".py",
   "mimetype": "text/x-python",
   "name": "python",
   "nbconvert_exporter": "python",
   "pygments_lexer": "ipython3",
   "version": "3.13.5"
  }
 },
 "nbformat": 4,
 "nbformat_minor": 5
}
