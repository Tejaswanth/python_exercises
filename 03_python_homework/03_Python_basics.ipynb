{
 "cells": [
  {
   "cell_type": "markdown",
   "id": "25c41a48-8e31-4e88-b5da-28957d21aa7f",
   "metadata": {},
   "source": [
    "# Python Basics Assignment: Integers, Floats, Booleans, and Type Conversion\n",
    "\n",
    "**Instructions:** Solve the following problems.  Write Python code where necessary."
   ]
  },
  {
   "cell_type": "markdown",
   "id": "51002e2d-0278-4916-b78f-5210b90973a1",
   "metadata": {},
   "source": [
    "**Part 1: Integers**"
   ]
  },
  {
   "cell_type": "markdown",
   "id": "16cfb294-3c04-41bc-8e08-9f769871527e",
   "metadata": {},
   "source": [
    "1.  What is the difference between an integer and a float in Python?"
   ]
  },
  {
   "cell_type": "code",
   "execution_count": null,
   "id": "205eea8a-4548-49dd-8dba-104d021cb290",
   "metadata": {},
   "outputs": [],
   "source": [
    "integer is a number with out decimal point where as float contains decimal"
   ]
  },
  {
   "cell_type": "markdown",
   "id": "2ca7c83f-3fd0-4543-ac25-fe1bf5b29d5d",
   "metadata": {},
   "source": [
    "2.  Declare an integer variable named `age` and assign it the value 25."
   ]
  },
  {
   "cell_type": "code",
   "execution_count": 2,
   "id": "2b910bab-6bb5-4e0a-922c-baba8219cdb9",
   "metadata": {},
   "outputs": [],
   "source": [
    "age =25"
   ]
  },
  {
   "cell_type": "markdown",
   "id": "fdeb6fc7-1767-4d1c-8f9c-cfccc4fe7336",
   "metadata": {},
   "source": [
    "3.  Print the value of the `age` variable."
   ]
  },
  {
   "cell_type": "code",
   "execution_count": 3,
   "id": "ba8e322e-5bca-433d-8ba7-242efd235aa1",
   "metadata": {},
   "outputs": [
    {
     "name": "stdout",
     "output_type": "stream",
     "text": [
      "25\n"
     ]
    }
   ],
   "source": [
    "print(age)"
   ]
  },
  {
   "cell_type": "markdown",
   "id": "7427d2fe-3508-493c-b6b1-42288269e26f",
   "metadata": {},
   "source": [
    "4.  What is the result of `10 + 5`?"
   ]
  },
  {
   "cell_type": "code",
   "execution_count": 6,
   "id": "b8e93f8b-562c-45c2-93eb-bf5d92ccb69b",
   "metadata": {},
   "outputs": [
    {
     "data": {
      "text/plain": [
       "15"
      ]
     },
     "execution_count": 6,
     "metadata": {},
     "output_type": "execute_result"
    }
   ],
   "source": [
    "10+5"
   ]
  },
  {
   "cell_type": "markdown",
   "id": "7ea9f1ca-5b63-433e-94b9-d772828bf6e6",
   "metadata": {},
   "source": [
    "5.  What is the result of `10 - 5`?"
   ]
  },
  {
   "cell_type": "code",
   "execution_count": 7,
   "id": "ae083e30-d727-42d2-9545-1cf55e1296a8",
   "metadata": {},
   "outputs": [
    {
     "data": {
      "text/plain": [
       "5"
      ]
     },
     "execution_count": 7,
     "metadata": {},
     "output_type": "execute_result"
    }
   ],
   "source": [
    "10-5"
   ]
  },
  {
   "cell_type": "markdown",
   "id": "bfd360de-9241-476d-becb-bc8d2292dd1a",
   "metadata": {},
   "source": [
    "6.  What is the result of `10 * 5`?"
   ]
  },
  {
   "cell_type": "code",
   "execution_count": 8,
   "id": "c3b2538b-d8fd-4488-8120-d5343406d559",
   "metadata": {},
   "outputs": [
    {
     "data": {
      "text/plain": [
       "50"
      ]
     },
     "execution_count": 8,
     "metadata": {},
     "output_type": "execute_result"
    }
   ],
   "source": [
    "10*5"
   ]
  },
  {
   "cell_type": "markdown",
   "id": "33c7cf24-33a2-4e1b-a908-a6203399d89e",
   "metadata": {},
   "source": [
    "7.  What is the result of `10 / 5`?"
   ]
  },
  {
   "cell_type": "code",
   "execution_count": 9,
   "id": "30e00615-9e1e-4cbd-a4b5-27621f0cf94f",
   "metadata": {},
   "outputs": [
    {
     "data": {
      "text/plain": [
       "2.0"
      ]
     },
     "execution_count": 9,
     "metadata": {},
     "output_type": "execute_result"
    }
   ],
   "source": [
    "10/5"
   ]
  },
  {
   "cell_type": "markdown",
   "id": "3d688669-493f-4711-9080-dec249a44971",
   "metadata": {},
   "source": [
    "8.  What is the result of `10 // 5` (floor division)?"
   ]
  },
  {
   "cell_type": "code",
   "execution_count": 10,
   "id": "d44c244f-1717-43d4-a7a4-e4e949a5658f",
   "metadata": {},
   "outputs": [
    {
     "data": {
      "text/plain": [
       "2"
      ]
     },
     "execution_count": 10,
     "metadata": {},
     "output_type": "execute_result"
    }
   ],
   "source": [
    "10//5"
   ]
  },
  {
   "cell_type": "markdown",
   "id": "2d622bad-47e3-400c-a513-34f9d62da3b5",
   "metadata": {},
   "source": [
    "9.  What is the result of `10 % 5` (modulo)?"
   ]
  },
  {
   "cell_type": "code",
   "execution_count": 11,
   "id": "26e075bb-1d7e-4f7c-b0ab-04fac5109508",
   "metadata": {},
   "outputs": [
    {
     "data": {
      "text/plain": [
       "0"
      ]
     },
     "execution_count": 11,
     "metadata": {},
     "output_type": "execute_result"
    }
   ],
   "source": [
    "10%5"
   ]
  },
  {
   "cell_type": "markdown",
   "id": "fbf9a9a7-3b6f-4801-bdb1-605097598ac8",
   "metadata": {},
   "source": [
    "10. What is the result of `2 ** 3` (exponentiation)?"
   ]
  },
  {
   "cell_type": "code",
   "execution_count": 12,
   "id": "4fa53763-64ea-4d56-af06-5d0702cec5e1",
   "metadata": {},
   "outputs": [
    {
     "data": {
      "text/plain": [
       "8"
      ]
     },
     "execution_count": 12,
     "metadata": {},
     "output_type": "execute_result"
    }
   ],
   "source": [
    "2 ** 3"
   ]
  },
  {
   "cell_type": "markdown",
   "id": "adfdfc5c-1b13-44d1-be92-dde11ddd5a50",
   "metadata": {},
   "source": [
    "11. Use the `+=` operator to increment the value of `age` by 5. Print the new value."
   ]
  },
  {
   "cell_type": "code",
   "execution_count": 13,
   "id": "f6fe4437-aeea-4a67-9a84-a2e4f3154632",
   "metadata": {},
   "outputs": [
    {
     "name": "stdout",
     "output_type": "stream",
     "text": [
      "30\n"
     ]
    }
   ],
   "source": [
    "age += 5\n",
    "print(age)"
   ]
  },
  {
   "cell_type": "markdown",
   "id": "37945b80-1df5-4593-92b7-05a92f8954f3",
   "metadata": {},
   "source": [
    "12. Use the `-=` operator to decrement the value of `age` by 3. Print the new value."
   ]
  },
  {
   "cell_type": "code",
   "execution_count": 14,
   "id": "e4c97c4f-89d7-4c0c-a0ad-236e60637e70",
   "metadata": {},
   "outputs": [
    {
     "name": "stdout",
     "output_type": "stream",
     "text": [
      "27\n"
     ]
    }
   ],
   "source": [
    "age-=3\n",
    "print(age)"
   ]
  },
  {
   "cell_type": "markdown",
   "id": "72d2ea72-c13d-440a-8526-bd75b5c64ea1",
   "metadata": {},
   "source": [
    "13. What is the output of `print(type(age))` after the previous operations?"
   ]
  },
  {
   "cell_type": "code",
   "execution_count": null,
   "id": "9b7398a9-61da-40db-80d2-f1a1d44c3ea0",
   "metadata": {},
   "outputs": [],
   "source": [
    "class - int"
   ]
  },
  {
   "cell_type": "markdown",
   "id": "3f1a0c0a-9735-4dca-ae45-7d491a0e1939",
   "metadata": {},
   "source": [
    "14. How can you check if a number is even or odd using the modulo operator?  Give an example."
   ]
  },
  {
   "cell_type": "code",
   "execution_count": 20,
   "id": "54fe967a-85ba-40a6-acc5-be618852fb68",
   "metadata": {},
   "outputs": [
    {
     "name": "stdout",
     "output_type": "stream",
     "text": [
      "even\n"
     ]
    }
   ],
   "source": [
    "a =2\n",
    "if ((a % 2) == 0):\n",
    "    print(\"even\")\n",
    "else:\n",
    "    print(\"odd\")"
   ]
  },
  {
   "cell_type": "markdown",
   "id": "419ee148-e05c-40c6-b301-04dbe4a6d2a7",
   "metadata": {},
   "source": [
    "15. Write a Python program to calculate the area of a rectangle given its length and width (both integers)."
   ]
  },
  {
   "cell_type": "code",
   "execution_count": 21,
   "id": "a79f992c-ece4-433d-97f6-bbe494f3971f",
   "metadata": {},
   "outputs": [
    {
     "name": "stdout",
     "output_type": "stream",
     "text": [
      "100\n"
     ]
    }
   ],
   "source": [
    "lenth =10\n",
    "wid=10\n",
    "area = lenth*wid\n",
    "print(area)"
   ]
  },
  {
   "cell_type": "markdown",
   "id": "06d0f415-fa1f-4ab6-9322-52aa9d609ba5",
   "metadata": {},
   "source": [
    "**Part 2: Floats**"
   ]
  },
  {
   "cell_type": "markdown",
   "id": "deaf2a80-8f73-4d80-a068-eac225946702",
   "metadata": {},
   "source": [
    "16. Declare a float variable named `height` and assign it the value 5.8."
   ]
  },
  {
   "cell_type": "code",
   "execution_count": 23,
   "id": "ee9473ed-024d-48d6-8bc7-fc69938f888e",
   "metadata": {},
   "outputs": [],
   "source": [
    "height = 5.8"
   ]
  },
  {
   "cell_type": "markdown",
   "id": "46f6ac68-1e7f-4c5d-aa6d-9c768bbc2b6f",
   "metadata": {},
   "source": [
    "17. Print the value of the `height` variable."
   ]
  },
  {
   "cell_type": "code",
   "execution_count": 24,
   "id": "5e11d493-3403-48ba-8ba1-ba6df7d6e435",
   "metadata": {},
   "outputs": [
    {
     "name": "stdout",
     "output_type": "stream",
     "text": [
      "5.8\n"
     ]
    }
   ],
   "source": [
    "print(height)"
   ]
  },
  {
   "cell_type": "markdown",
   "id": "27cc376e-5400-4e0c-875a-6be7b8742384",
   "metadata": {},
   "source": [
    "18. What is the result of `10.5 + 5.2`?"
   ]
  },
  {
   "cell_type": "code",
   "execution_count": 25,
   "id": "f4150ca6-1a98-479d-90d1-424482e75fa5",
   "metadata": {},
   "outputs": [
    {
     "data": {
      "text/plain": [
       "15.7"
      ]
     },
     "execution_count": 25,
     "metadata": {},
     "output_type": "execute_result"
    }
   ],
   "source": [
    "10.5+5.2"
   ]
  },
  {
   "cell_type": "markdown",
   "id": "6a393149-d4c8-4443-bddc-283d6b79f461",
   "metadata": {},
   "source": [
    "19. What is the result of `10.5 - 5.2`?"
   ]
  },
  {
   "cell_type": "code",
   "execution_count": 26,
   "id": "f7230190-5721-4767-983d-6407a2bdfc2c",
   "metadata": {},
   "outputs": [
    {
     "data": {
      "text/plain": [
       "5.3"
      ]
     },
     "execution_count": 26,
     "metadata": {},
     "output_type": "execute_result"
    }
   ],
   "source": [
    "10.5 -5.2"
   ]
  },
  {
   "cell_type": "markdown",
   "id": "c44fa16f-70a5-484d-b835-6e9e173bf83e",
   "metadata": {},
   "source": [
    "20. What is the result of `10.5 * 5.2`?"
   ]
  },
  {
   "cell_type": "code",
   "execution_count": 27,
   "id": "b0fcb612-d902-4ce2-a2ed-b5d7d32bafe7",
   "metadata": {},
   "outputs": [
    {
     "data": {
      "text/plain": [
       "54.6"
      ]
     },
     "execution_count": 27,
     "metadata": {},
     "output_type": "execute_result"
    }
   ],
   "source": [
    "10.5*5.2"
   ]
  },
  {
   "cell_type": "markdown",
   "id": "9674ba22-0290-4c71-8e09-7e1cb4e6c11f",
   "metadata": {},
   "source": [
    "21. What is the result of `10.5 / 5.2`?"
   ]
  },
  {
   "cell_type": "code",
   "execution_count": 28,
   "id": "b2d0f2cb-96d1-46ed-a120-7287df78a5df",
   "metadata": {},
   "outputs": [
    {
     "data": {
      "text/plain": [
       "2.019230769230769"
      ]
     },
     "execution_count": 28,
     "metadata": {},
     "output_type": "execute_result"
    }
   ],
   "source": [
    "10.5/5.2"
   ]
  },
  {
   "cell_type": "markdown",
   "id": "8078716e-0b18-4406-8c08-dfad03beee96",
   "metadata": {},
   "source": [
    "22. What is the output of `print(type(height))`?"
   ]
  },
  {
   "cell_type": "code",
   "execution_count": null,
   "id": "dabfeba5-6df0-425a-992d-510eda2271e0",
   "metadata": {},
   "outputs": [],
   "source": [
    "class type - float"
   ]
  },
  {
   "cell_type": "markdown",
   "id": "7be52bca-c070-41df-9025-0feac13c7213",
   "metadata": {},
   "source": [
    "23. Write a Python program to calculate the area of a circle given its radius (float).  Use pi = 3.14159."
   ]
  },
  {
   "cell_type": "code",
   "execution_count": 29,
   "id": "0fe182b3-945c-4e28-a56d-3106d744cf0c",
   "metadata": {},
   "outputs": [
    {
     "name": "stdout",
     "output_type": "stream",
     "text": [
      "19.739175456199998\n"
     ]
    }
   ],
   "source": [
    "radius = 2\n",
    "pi = 3.14159\n",
    "circle = radius * pi ** 2\n",
    "print(circle)"
   ]
  },
  {
   "cell_type": "markdown",
   "id": "ba47d260-a18d-4a4e-bb21-0b0eb02f7886",
   "metadata": {},
   "source": [
    "24.  How can you format a float to two decimal places in Python? Give an example."
   ]
  },
  {
   "cell_type": "code",
   "execution_count": 38,
   "id": "d5279664-9fea-41b7-a912-7831c5834357",
   "metadata": {},
   "outputs": [
    {
     "data": {
      "text/plain": [
       "'19.74'"
      ]
     },
     "execution_count": 38,
     "metadata": {},
     "output_type": "execute_result"
    }
   ],
   "source": [
    "f\"{circle:.2f}\""
   ]
  },
  {
   "cell_type": "markdown",
   "id": "14430427-0199-4904-84b6-4df9063401a0",
   "metadata": {},
   "source": [
    "25.  What is the difference between `10` and `10.0` in Python?"
   ]
  },
  {
   "cell_type": "code",
   "execution_count": null,
   "id": "155511c5-0dd0-4f39-9099-ccf2bcc66c4d",
   "metadata": {},
   "outputs": [],
   "source": [
    "10 is integer\n",
    "10.0 is float"
   ]
  },
  {
   "cell_type": "raw",
   "id": "5756191e-9073-4490-b3a8-273f08ad4761",
   "metadata": {},
   "source": [
    "26. Write a Python program to convert Celsius to Fahrenheit. The Celsius value should be a float.  Fahrenheit = (Celsius * 9/5) + 32"
   ]
  },
  {
   "cell_type": "code",
   "execution_count": 39,
   "id": "8f75ddef-75a3-4ad3-beae-a1690378e5ff",
   "metadata": {},
   "outputs": [
    {
     "name": "stdout",
     "output_type": "stream",
     "text": [
      "50.0\n"
     ]
    }
   ],
   "source": [
    "Celsius = 10\n",
    "Fahrenheit = (Celsius * 9/5) + 32\n",
    "print(Fahrenheit)\n"
   ]
  },
  {
   "cell_type": "markdown",
   "id": "e1b31c67-c813-4309-ad42-123aa989ccfd",
   "metadata": {},
   "source": [
    "27.  Write a Python program to calculate the average of three float numbers."
   ]
  },
  {
   "cell_type": "code",
   "execution_count": 40,
   "id": "b323c25f-0304-4fcb-b95d-7b0b77dc814c",
   "metadata": {},
   "outputs": [
    {
     "name": "stdout",
     "output_type": "stream",
     "text": [
      "2.0\n"
     ]
    }
   ],
   "source": [
    "a =1\n",
    "b=2\n",
    "c=3\n",
    "x = (a+b+c)/3\n",
    "print(x)"
   ]
  },
  {
   "cell_type": "markdown",
   "id": "31f06e17-49d5-49b3-a8f3-e723aa5d48f8",
   "metadata": {},
   "source": [
    "**Part 3: Booleans**"
   ]
  },
  {
   "cell_type": "markdown",
   "id": "05017bb7-c491-4fe4-93bd-cc5b11d3abf8",
   "metadata": {},
   "source": [
    "28. Declare a boolean variable named `is_student` and assign it the value `True`."
   ]
  },
  {
   "cell_type": "code",
   "execution_count": 45,
   "id": "2e5b8bac-cb2c-4b7d-9138-9a32d62154d2",
   "metadata": {},
   "outputs": [],
   "source": [
    "is_student = True"
   ]
  },
  {
   "cell_type": "markdown",
   "id": "31f8d46a-fb9c-44f1-a4bd-3f5e0d3498c4",
   "metadata": {},
   "source": [
    "29. Print the value of `is_student`."
   ]
  },
  {
   "cell_type": "code",
   "execution_count": 47,
   "id": "62552794-e678-4ac3-8c4a-0994b25ed813",
   "metadata": {},
   "outputs": [
    {
     "name": "stdout",
     "output_type": "stream",
     "text": [
      "True\n"
     ]
    }
   ],
   "source": [
    "print(is_student)"
   ]
  },
  {
   "cell_type": "markdown",
   "id": "8d539c8f-a72e-4c38-a897-7bf36cab4dcb",
   "metadata": {},
   "source": [
    "30. What is the result of `True and True`?"
   ]
  },
  {
   "cell_type": "code",
   "execution_count": null,
   "id": "fb978886-ee10-4a9c-9a21-fd38638569d5",
   "metadata": {},
   "outputs": [],
   "source": [
    "true"
   ]
  },
  {
   "cell_type": "markdown",
   "id": "ce890e3f-e52e-42b6-8ece-cba960a84f76",
   "metadata": {},
   "source": [
    "31. What is the result of `True and False`?"
   ]
  },
  {
   "cell_type": "code",
   "execution_count": null,
   "id": "36e7973c-d78e-4795-b281-e14eb5645007",
   "metadata": {},
   "outputs": [],
   "source": [
    "false"
   ]
  },
  {
   "cell_type": "markdown",
   "id": "93131314-9233-474d-bb2a-07b3b2e0f2ef",
   "metadata": {},
   "source": [
    "32. What is the result of `False and False`?"
   ]
  },
  {
   "cell_type": "code",
   "execution_count": null,
   "id": "069ea4cb-6d77-4428-9f34-9fc3f8881f88",
   "metadata": {},
   "outputs": [],
   "source": [
    "false"
   ]
  },
  {
   "cell_type": "markdown",
   "id": "a41bfe10-5ece-47cf-9e2c-035406ae9a23",
   "metadata": {},
   "source": [
    "33. What is the result of `True or True`?"
   ]
  },
  {
   "cell_type": "code",
   "execution_count": null,
   "id": "d68506ab-3a5d-4064-a1cc-68a0f4e80b35",
   "metadata": {},
   "outputs": [],
   "source": [
    "true"
   ]
  },
  {
   "cell_type": "markdown",
   "id": "bd772058-9e79-45f6-b3a8-c46720a3c1f1",
   "metadata": {},
   "source": [
    "34. What is the result of `True or False`?"
   ]
  },
  {
   "cell_type": "code",
   "execution_count": null,
   "id": "8c3a5962-ddf5-406b-b390-2dc326bd134c",
   "metadata": {},
   "outputs": [],
   "source": [
    "true"
   ]
  },
  {
   "cell_type": "markdown",
   "id": "b20751b6-5142-413f-96ae-000c04ba74eb",
   "metadata": {},
   "source": [
    "35. What is the result of `False or False`?"
   ]
  },
  {
   "cell_type": "code",
   "execution_count": null,
   "id": "0f1ec021-a96d-4e31-b6dc-866a5e7a0446",
   "metadata": {},
   "outputs": [],
   "source": [
    "false"
   ]
  },
  {
   "cell_type": "markdown",
   "id": "e9eeb8b6-e068-43ce-817b-f2938dfdd3e9",
   "metadata": {},
   "source": [
    "36. What is the result of `not True`?"
   ]
  },
  {
   "cell_type": "code",
   "execution_count": null,
   "id": "d7a86a63-2ade-46cb-92d6-1f5865c5dfa7",
   "metadata": {},
   "outputs": [],
   "source": [
    "false"
   ]
  },
  {
   "cell_type": "markdown",
   "id": "e8e9a900-3d0b-4873-8e09-01aa3b2a8c5b",
   "metadata": {},
   "source": [
    "37. What is the result of `not False`?"
   ]
  },
  {
   "cell_type": "code",
   "execution_count": null,
   "id": "4c0b3345-7b56-4797-8a58-0e0e2d9804b4",
   "metadata": {},
   "outputs": [],
   "source": [
    "true"
   ]
  },
  {
   "cell_type": "markdown",
   "id": "3a91dffb-c874-46fb-8b55-207cc33902d3",
   "metadata": {},
   "source": [
    "38.  Write a Python expression that checks if a number `x` is greater than 10 and less than 20.  The result should be a boolean."
   ]
  },
  {
   "cell_type": "code",
   "execution_count": 53,
   "id": "bcb645c8-1259-46a8-a85d-a639ff590618",
   "metadata": {},
   "outputs": [
    {
     "data": {
      "text/plain": [
       "False"
      ]
     },
     "execution_count": 53,
     "metadata": {},
     "output_type": "execute_result"
    }
   ],
   "source": [
    "x = 25\n",
    "10 > x < 20"
   ]
  },
  {
   "cell_type": "markdown",
   "id": "ca11e72a-5323-40b6-bf73-c7951fb02136",
   "metadata": {},
   "source": [
    "39.  Write a Python expression that checks if a string `s` is equal to \"hello\". The result should be a boolean."
   ]
  },
  {
   "cell_type": "code",
   "execution_count": 56,
   "id": "473214cf-b85c-47a5-bbb2-051ccb4a5527",
   "metadata": {},
   "outputs": [
    {
     "name": "stdout",
     "output_type": "stream",
     "text": [
      "True\n"
     ]
    }
   ],
   "source": [
    "s = \"hello\"\n",
    "print(bool(s))"
   ]
  },
  {
   "cell_type": "markdown",
   "id": "e1ae185a-3a8e-45e9-8793-4892f5f5bee6",
   "metadata": {},
   "source": [
    "40.  What is the output of `print(type(is_student))`?"
   ]
  },
  {
   "cell_type": "code",
   "execution_count": 58,
   "id": "517fd38b-bc88-4958-ab6d-2bb5073b1277",
   "metadata": {},
   "outputs": [
    {
     "data": {
      "text/plain": [
       "bool"
      ]
     },
     "execution_count": 58,
     "metadata": {},
     "output_type": "execute_result"
    }
   ],
   "source": [
    "bool"
   ]
  },
  {
   "cell_type": "markdown",
   "id": "3f8cfbbb-e7c6-4297-88c2-f35f58fe3a38",
   "metadata": {},
   "source": [
    "**Part 4: Type Conversion**"
   ]
  },
  {
   "cell_type": "markdown",
   "id": "97c82a9b-82e7-4120-89f4-c3a658a9d063",
   "metadata": {},
   "source": [
    "41. Convert the integer `10` to a float. Print the result and its type."
   ]
  },
  {
   "cell_type": "code",
   "execution_count": 59,
   "id": "2538ce36-daa7-4f40-90f6-1ce16b9b0554",
   "metadata": {},
   "outputs": [
    {
     "data": {
      "text/plain": [
       "10.0"
      ]
     },
     "execution_count": 59,
     "metadata": {},
     "output_type": "execute_result"
    }
   ],
   "source": [
    "float(10)"
   ]
  },
  {
   "cell_type": "markdown",
   "id": "02efb8ef-ea45-4b4a-aa8f-4b91c0ae8612",
   "metadata": {},
   "source": [
    "42. Convert the float `3.14` to an integer. Print the result and its type.  What happens to the decimal part?"
   ]
  },
  {
   "cell_type": "code",
   "execution_count": 60,
   "id": "63afeaca-56cb-40b6-ba89-d2f930c185b5",
   "metadata": {},
   "outputs": [
    {
     "data": {
      "text/plain": [
       "3"
      ]
     },
     "execution_count": 60,
     "metadata": {},
     "output_type": "execute_result"
    }
   ],
   "source": [
    "int(3.14)\n",
    "it convert the decimal to interger"
   ]
  },
  {
   "cell_type": "markdown",
   "id": "c6500274-0d42-4116-a965-7a426746d914",
   "metadata": {},
   "source": [
    "43. Convert the string \"123\" to an integer. Print the result and its type."
   ]
  },
  {
   "cell_type": "code",
   "execution_count": 61,
   "id": "74a68eb3-f241-4893-b387-ef87e97dffd5",
   "metadata": {},
   "outputs": [
    {
     "data": {
      "text/plain": [
       "123"
      ]
     },
     "execution_count": 61,
     "metadata": {},
     "output_type": "execute_result"
    }
   ],
   "source": [
    "s = \"123\"\n",
    "int(s)"
   ]
  },
  {
   "cell_type": "markdown",
   "id": "6abf5eb1-bc3b-407f-bae9-e2bf47cf0218",
   "metadata": {},
   "source": [
    "44. Convert the integer `456` to a string. Print the result and its type."
   ]
  },
  {
   "cell_type": "code",
   "execution_count": 62,
   "id": "10eebadb-87e9-4cc9-8ab3-a02856671eb3",
   "metadata": {},
   "outputs": [
    {
     "data": {
      "text/plain": [
       "'456'"
      ]
     },
     "execution_count": 62,
     "metadata": {},
     "output_type": "execute_result"
    }
   ],
   "source": [
    "s = 456\n",
    "str(s)"
   ]
  },
  {
   "cell_type": "markdown",
   "id": "93c339df-1bc5-4d08-a615-c7e8fa856e79",
   "metadata": {},
   "source": [
    "45. Convert the boolean `True` to an integer. Print the result."
   ]
  },
  {
   "cell_type": "code",
   "execution_count": 64,
   "id": "a9aca0b5-c032-45f2-91e6-517cecd5af95",
   "metadata": {},
   "outputs": [
    {
     "data": {
      "text/plain": [
       "1"
      ]
     },
     "execution_count": 64,
     "metadata": {},
     "output_type": "execute_result"
    }
   ],
   "source": [
    "int(True)"
   ]
  },
  {
   "cell_type": "markdown",
   "id": "a8566c42-5b23-4824-a624-f7f8b75eac8a",
   "metadata": {},
   "source": [
    "46. Convert the integer `0` to a boolean. Print the result."
   ]
  },
  {
   "cell_type": "code",
   "execution_count": 65,
   "id": "122bb6f7-97a4-4c47-b07c-f5ec62584fbc",
   "metadata": {},
   "outputs": [
    {
     "data": {
      "text/plain": [
       "False"
      ]
     },
     "execution_count": 65,
     "metadata": {},
     "output_type": "execute_result"
    }
   ],
   "source": [
    "bool(0)"
   ]
  },
  {
   "cell_type": "markdown",
   "id": "39c5fc00-8b14-4fe6-834c-cfa7a58a158f",
   "metadata": {},
   "source": [
    "47. Convert the string \"True\" to a boolean. Print the result.  Is the string \"false\" converted to boolean `False`?"
   ]
  },
  {
   "cell_type": "code",
   "execution_count": 67,
   "id": "305bcc2c-b345-4a82-ad91-fe02e88e3799",
   "metadata": {},
   "outputs": [
    {
     "data": {
      "text/plain": [
       "True"
      ]
     },
     "execution_count": 67,
     "metadata": {},
     "output_type": "execute_result"
    }
   ],
   "source": [
    "s = 'False'\n",
    "bool(s)"
   ]
  },
  {
   "cell_type": "markdown",
   "id": "50289ea5-c9c8-49a9-8059-417029b855d4",
   "metadata": {},
   "source": [
    "48. Write a Python program that takes a string input from the user, converts it to an integer, and then prints the square of that integer."
   ]
  },
  {
   "cell_type": "code",
   "execution_count": 73,
   "id": "cd01580b-9221-407f-bd64-a4247166d6c9",
   "metadata": {},
   "outputs": [
    {
     "name": "stdin",
     "output_type": "stream",
     "text": [
      "enter the string hello\n"
     ]
    },
    {
     "ename": "ValueError",
     "evalue": "invalid literal for int() with base 10: 'hello'",
     "output_type": "error",
     "traceback": [
      "\u001b[1;31m---------------------------------------------------------------------------\u001b[0m",
      "\u001b[1;31mValueError\u001b[0m                                Traceback (most recent call last)",
      "Cell \u001b[1;32mIn[73], line 2\u001b[0m\n\u001b[0;32m      1\u001b[0m s \u001b[38;5;241m=\u001b[39m \u001b[38;5;28mstr\u001b[39m(\u001b[38;5;28minput\u001b[39m(\u001b[38;5;124m\"\u001b[39m\u001b[38;5;124menter the string\u001b[39m\u001b[38;5;124m\"\u001b[39m))\n\u001b[1;32m----> 2\u001b[0m \u001b[38;5;28mint\u001b[39m(s)\n\u001b[0;32m      3\u001b[0m \u001b[38;5;28mtype\u001b[39m(s)\n",
      "\u001b[1;31mValueError\u001b[0m: invalid literal for int() with base 10: 'hello'"
     ]
    }
   ],
   "source": [
    "s = str(input(\"enter the string\"))\n",
    "int(s)\n",
    "type(s)"
   ]
  },
  {
   "cell_type": "markdown",
   "id": "eeb9184e-4a23-4835-90cb-2732996cad0e",
   "metadata": {},
   "source": [
    "49. Write a Python program that takes a float input from the user, converts it to an integer, and then prints whether the resulting integer is even or odd."
   ]
  },
  {
   "cell_type": "markdown",
   "id": "e3db4dc1-9745-4699-a478-d1a4c962e1e9",
   "metadata": {},
   "source": [
    "50.  Explain the difference between implicit and explicit type conversion with examples."
   ]
  },
  {
   "cell_type": "code",
   "execution_count": null,
   "id": "fa11ad2e-9646-4973-89fa-5428245d5758",
   "metadata": {},
   "outputs": [],
   "source": []
  }
 ],
 "metadata": {
  "kernelspec": {
   "display_name": "Python [conda env:base] *",
   "language": "python",
   "name": "conda-base-py"
  },
  "language_info": {
   "codemirror_mode": {
    "name": "ipython",
    "version": 3
   },
   "file_extension": ".py",
   "mimetype": "text/x-python",
   "name": "python",
   "nbconvert_exporter": "python",
   "pygments_lexer": "ipython3",
   "version": "3.13.5"
  }
 },
 "nbformat": 4,
 "nbformat_minor": 5
}
